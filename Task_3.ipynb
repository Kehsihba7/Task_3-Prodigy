{
  "nbformat": 4,
  "nbformat_minor": 0,
  "metadata": {
    "colab": {
      "provenance": []
    },
    "kernelspec": {
      "name": "python3",
      "display_name": "Python 3"
    },
    "language_info": {
      "name": "python"
    }
  },
  "cells": [
    {
      "cell_type": "code",
      "execution_count": 2,
      "metadata": {
        "colab": {
          "base_uri": "https://localhost:8080/"
        },
        "id": "l4oPGAB1uFGd",
        "outputId": "a4e5f675-2869-4cc8-9d8b-9d8e7cb6f844"
      },
      "outputs": [
        {
          "output_type": "stream",
          "name": "stdout",
          "text": [
            "Enter your password: Abhishek@1234\n",
            "Strong password.\n"
          ]
        }
      ],
      "source": [
        "import re\n",
        "\n",
        "def assess_password_strength(password):\n",
        "    # Define criteria for password strength\n",
        "    length_criteria = len(password) >= 8\n",
        "    uppercase_criteria = any(char.isupper() for char in password)\n",
        "    lowercase_criteria = any(char.islower() for char in password)\n",
        "    digit_criteria = any(char.isdigit() for char in password)\n",
        "    special_character_criteria = bool(re.match(r'[!@#$%^&*(),.?\":{}|<>]', password))\n",
        "\n",
        "    # Calculate strength score\n",
        "    strength_score = sum([length_criteria, uppercase_criteria, lowercase_criteria, digit_criteria, special_character_criteria])\n",
        "\n",
        "    # Provide feedback based on the strength score\n",
        "    if strength_score == 5:\n",
        "        return \"Very strong password!\"\n",
        "    elif strength_score >= 3:\n",
        "        return \"Strong password.\"\n",
        "    elif strength_score >= 2:\n",
        "        return \"Moderate password.\"\n",
        "    elif strength_score >= 1:\n",
        "        return \"Weak password. Consider adding more complexity.\"\n",
        "    else:\n",
        "        return \"Very weak password. Please choose a stronger password.\"\n",
        "\n",
        "# Example usage\n",
        "password = input(\"Enter your password: \")\n",
        "strength_feedback = assess_password_strength(password)\n",
        "print(strength_feedback)\n"
      ]
    }
  ]
}